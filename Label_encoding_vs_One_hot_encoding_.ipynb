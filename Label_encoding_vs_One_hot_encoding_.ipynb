{
  "metadata": {
    "kernelspec": {
      "language": "python",
      "display_name": "Python 3",
      "name": "python3"
    },
    "language_info": {
      "name": "python",
      "version": "3.10.12",
      "mimetype": "text/x-python",
      "codemirror_mode": {
        "name": "ipython",
        "version": 3
      },
      "pygments_lexer": "ipython3",
      "nbconvert_exporter": "python",
      "file_extension": ".py"
    },
    "colab": {
      "name": "Label encoding vs One hot encoding.",
      "provenance": [],
      "include_colab_link": true
    }
  },
  "nbformat_minor": 0,
  "nbformat": 4,
  "cells": [
    {
      "cell_type": "markdown",
      "metadata": {
        "id": "view-in-github",
        "colab_type": "text"
      },
      "source": [
        "<a href=\"https://colab.research.google.com/github/Shubhak11/VerilogCodes/blob/main/Label_encoding_vs_One_hot_encoding_.ipynb\" target=\"_parent\"><img src=\"https://colab.research.google.com/assets/colab-badge.svg\" alt=\"Open In Colab\"/></a>"
      ]
    },
    {
      "source": [
        "# IMPORTANT: RUN THIS CELL IN ORDER TO IMPORT YOUR KAGGLE DATA SOURCES,\n",
        "# THEN FEEL FREE TO DELETE THIS CELL.\n",
        "# NOTE: THIS NOTEBOOK ENVIRONMENT DIFFERS FROM KAGGLE'S PYTHON\n",
        "# ENVIRONMENT SO THERE MAY BE MISSING LIBRARIES USED BY YOUR\n",
        "# NOTEBOOK.\n",
        "import kagglehub\n",
        "aastha99_homeprices_one_hot_encoding_path = kagglehub.dataset_download('aastha99/homeprices-one-hot-encoding')\n",
        "\n",
        "print('Data source import complete.')\n"
      ],
      "metadata": {
        "id": "Fs6PbyKrKH46"
      },
      "cell_type": "code",
      "outputs": [],
      "execution_count": null
    },
    {
      "cell_type": "markdown",
      "source": [
        "## **Categorical Data:**\n",
        "**Categorical data** is a type of data that represents variables with distinct categories or levels. There are two main types of categorical data : ordinal and nominal.\n",
        "![image.png](attachment:a66fce0d-402d-4007-9f63-306e21357f72.png)\n",
        "\n",
        " * **Ordinal data** has categories with a specific order or hierarchy. Examples include rating scales or Likert scales where respondents rate their satisfaction level or agreement on a scale from \"Very Unsatisfied\" to \"Very Satisfied\". The order of the categories is important, but the numerical values assigned may not have a specific meaning.\n",
        "\n",
        " * **Nominal data** has categories without any inherent order or hierarchy. Examples include colors or different types of fruits. Each category is independent of the others, and no numerical relationship exists between the categories.\n",
        "\n",
        "Proper **encoding techniques** should be used for categorical data. For ordinal data, label encoding can be applied, preserving the order of the categories. For nominal data, one-hot encoding is commonly used, representing each category as a separate binary feature.\n",
        "\n",
        "## **Encoding Techniques:**\n",
        "* **Label Encoding:**\n",
        "Label encoding is a technique where each unique category or label in a categorical variable is assigned a different numerical value. This is typically done using libraries like scikit-learn's LabelEncoder. Label encoding allows the representation of categorical data in a numeric format, but it does not preserve any inherent order or hierarchy of the categories. The assigned numbers are arbitrary and do not hold any specific meaning.\n",
        "\n",
        "\n",
        "![image.png](attachment:9655008e-72a4-476f-a1ef-640040d2d1e4.png)![image.png](attachment:b436bb01-5f95-4894-a808-98645e5ec2df.png)\n",
        "\n",
        "* **One-Hot Encoding:**\n",
        "One-hot encoding is a technique used to convert categorical variables into binary vectors. Each unique category or label is represented by a separate binary column (or feature), where a value of 1 indicates the presence of that category and 0 indicates its absence. One-hot encoding is typically performed using libraries like pandas' get_dummies() function or scikit-learn's OneHotEncoder. This technique is suitable for nominal categorical variables where there is no inherent order or hierarchy among the categories.\n",
        "\n",
        "\n",
        "![image.png](attachment:4649cf72-4387-4cfa-9370-e571cb357e42.png)![image.png](attachment:8f1aba20-99ec-4086-b7a6-4bc7849f7222.png)\n"
      ],
      "metadata": {
        "id": "bcd5PzYyKH49"
      }
    },
    {
      "cell_type": "markdown",
      "source": [
        "## **Difference between both by practical implementation:**\n",
        "> ## **One-Hot Encoding**\n",
        "#### Read and perform preprocessing on Dataset:"
      ],
      "metadata": {
        "id": "Hq5l9wIKKH4-"
      }
    },
    {
      "cell_type": "code",
      "source": [
        "import pandas as pd\n",
        "df = pd.read_csv(\"/kaggle/input/homeprices-one-hot-encoding/homeprices.csv\")\n",
        "df.head(2)"
      ],
      "metadata": {
        "execution": {
          "iopub.status.busy": "2023-09-05T08:37:31.698599Z",
          "iopub.execute_input": "2023-09-05T08:37:31.69901Z",
          "iopub.status.idle": "2023-09-05T08:37:32.028161Z",
          "shell.execute_reply.started": "2023-09-05T08:37:31.698975Z",
          "shell.execute_reply": "2023-09-05T08:37:32.027086Z"
        },
        "trusted": true,
        "id": "N2_GjNfTKH4-"
      },
      "execution_count": null,
      "outputs": []
    },
    {
      "cell_type": "markdown",
      "source": [
        "* **pd.get_dummies():**\n",
        "The pd.get_dummies() function in pandas is used to perform one-hot encoding on categorical variables. It creates a new DataFrame with binary columns for each unique category in the original variable. By default, it returns dummy-coded data where the presence of a category is represented by 1 and the absence is represented by 0.\n",
        "To obtain binary values of 0 and 1 instead of boolean True and False values with pd.get_dummies(), you can use the astype(int) method to convert the boolean values to integers."
      ],
      "metadata": {
        "id": "JCpZtAQyKH4-"
      }
    },
    {
      "cell_type": "code",
      "source": [
        "dummies =pd.get_dummies(df.town).astype(int)\n",
        "dummies"
      ],
      "metadata": {
        "execution": {
          "iopub.status.busy": "2023-09-05T08:41:44.183015Z",
          "iopub.execute_input": "2023-09-05T08:41:44.183372Z",
          "iopub.status.idle": "2023-09-05T08:41:44.195141Z",
          "shell.execute_reply.started": "2023-09-05T08:41:44.183336Z",
          "shell.execute_reply": "2023-09-05T08:41:44.194123Z"
        },
        "trusted": true,
        "id": "LQ4ynaONKH4_"
      },
      "execution_count": null,
      "outputs": []
    },
    {
      "cell_type": "markdown",
      "source": [
        "* By using **pd.concat([df, dummies], axis='columns')**, the code combines the two DataFrames horizontally, aligning them based on their columns. The resulting DataFrame, assigned to the variable merged, contains the original columns from df and the additional columns from dummies."
      ],
      "metadata": {
        "id": "2Yslq4BbKH4_"
      }
    },
    {
      "cell_type": "code",
      "source": [
        "merged = pd.concat([df,dummies],axis='columns')\n",
        "merged"
      ],
      "metadata": {
        "execution": {
          "iopub.status.busy": "2023-09-05T08:43:32.590011Z",
          "iopub.execute_input": "2023-09-05T08:43:32.590394Z",
          "iopub.status.idle": "2023-09-05T08:43:32.602915Z",
          "shell.execute_reply.started": "2023-09-05T08:43:32.590364Z",
          "shell.execute_reply": "2023-09-05T08:43:32.602064Z"
        },
        "trusted": true,
        "id": "QqjZVfRWKH4_"
      },
      "execution_count": null,
      "outputs": []
    },
    {
      "cell_type": "markdown",
      "source": [
        "### **Dummy Variable Trap**\n",
        "\n",
        "The Dummy Variable Trap refers to a situation in regression analysis where two or more dummy variables created through one-hot encoding are highly correlated or multicollinear . This occurs when one variable can be predicted from the others , leading to difficulties in interpreting the coefficients of the dummy variables in regression models. When using one-hot encoding to represent categorical variables as binary variables (0 or 1), it is common to create dummy variables to represent each category. However, if all dummy variables are included in the regression analysis, perfect multicollinearity can arise. This means that the sum of the dummy variables for all categories will be equal to 1 for all observations, which becomes perfectly correlated with the constant term. As a result, the matrix inversion in the estimation algorithm becomes impossible.\n",
        "\n",
        "* The code snippet **df = merged.drop(['town', 'west windsor'], axis='columns')**  is dropping the columns 'town' and 'west windsor' from the DataFrame merged. The resulting DataFrame is assigned to the variable df.\n",
        "\n",
        "It is a common practice to apply the \"thumb's rule\" when dealing with categorical variables and one-hot encoding to avoid multicollinearity. The rule suggests removing one of the dummy variables to maintain linear independence among the predictors.\n",
        "\n",
        "The ***reason for removing one of the dummy variables*** is to prevent the issue of multicollinearity, which occurs when there is a high correlation between predictor variables. Multicollinearity can lead to unstable coefficient estimates and difficulties in interpreting the effects of individual predictors.\n",
        "\n",
        "When creating dummy variables, it is important to remember that the dropped dummy variable serves as the reference category against which the other categories are compared. By comparing the remaining dummy variables to the dropped one, we can understand the effects of different categories in relation to the reference category.\n",
        "\n",
        "If you do not manually remove one of the dummy variables, some models, such as linear regression, will automatically handle it by excluding one of the dummy variables during the fitting process. This is done to avoid the issue of multicollinearity and non-linearity that can arise when all dummy variables are included."
      ],
      "metadata": {
        "id": "f3kx7iHmKH4_"
      }
    },
    {
      "cell_type": "code",
      "source": [
        "df = merged.drop(['town', 'west windsor'], axis='columns')\n",
        "df"
      ],
      "metadata": {
        "execution": {
          "iopub.status.busy": "2023-09-05T08:54:39.185729Z",
          "iopub.execute_input": "2023-09-05T08:54:39.186082Z",
          "iopub.status.idle": "2023-09-05T08:54:39.200107Z",
          "shell.execute_reply.started": "2023-09-05T08:54:39.186054Z",
          "shell.execute_reply": "2023-09-05T08:54:39.199329Z"
        },
        "trusted": true,
        "id": "S5tZaudlKH5A"
      },
      "execution_count": null,
      "outputs": []
    },
    {
      "cell_type": "markdown",
      "source": [
        "####  Creating model"
      ],
      "metadata": {
        "id": "r2Mjt2ZFKH5A"
      }
    },
    {
      "cell_type": "code",
      "source": [
        "from sklearn.linear_model import LinearRegression\n",
        "model=LinearRegression()"
      ],
      "metadata": {
        "execution": {
          "iopub.status.busy": "2023-09-05T08:56:00.152695Z",
          "iopub.execute_input": "2023-09-05T08:56:00.153531Z",
          "iopub.status.idle": "2023-09-05T08:56:00.158117Z",
          "shell.execute_reply.started": "2023-09-05T08:56:00.153494Z",
          "shell.execute_reply": "2023-09-05T08:56:00.157065Z"
        },
        "trusted": true,
        "id": "8Q5v6-VUKH5A"
      },
      "execution_count": null,
      "outputs": []
    },
    {
      "cell_type": "markdown",
      "source": [
        "#### Define x & y:\n",
        "* Create **x** as a DataFrame consisting of the input independent variables, and **y** as a variable representing the output or dependent variable that we want to predict or analyze."
      ],
      "metadata": {
        "id": "K98uHoRzKH5A"
      }
    },
    {
      "cell_type": "code",
      "source": [
        "x= df.drop('price', axis='columns')\n",
        "x"
      ],
      "metadata": {
        "execution": {
          "iopub.status.busy": "2023-09-05T08:56:56.474208Z",
          "iopub.execute_input": "2023-09-05T08:56:56.474778Z",
          "iopub.status.idle": "2023-09-05T08:56:56.487108Z",
          "shell.execute_reply.started": "2023-09-05T08:56:56.474718Z",
          "shell.execute_reply": "2023-09-05T08:56:56.486364Z"
        },
        "trusted": true,
        "id": "CKsTRs9QKH5A"
      },
      "execution_count": null,
      "outputs": []
    },
    {
      "cell_type": "code",
      "source": [
        "y = df.price\n",
        "y"
      ],
      "metadata": {
        "execution": {
          "iopub.status.busy": "2023-09-05T08:57:07.672555Z",
          "iopub.execute_input": "2023-09-05T08:57:07.672978Z",
          "iopub.status.idle": "2023-09-05T08:57:07.680973Z",
          "shell.execute_reply.started": "2023-09-05T08:57:07.672948Z",
          "shell.execute_reply": "2023-09-05T08:57:07.67993Z"
        },
        "trusted": true,
        "id": "b_lyL63SKH5A"
      },
      "execution_count": null,
      "outputs": []
    },
    {
      "cell_type": "markdown",
      "source": [
        "#### Train model"
      ],
      "metadata": {
        "id": "7YI4ynAiKH5B"
      }
    },
    {
      "cell_type": "code",
      "source": [
        "#train our model\n",
        "model.fit(x,y)"
      ],
      "metadata": {
        "execution": {
          "iopub.status.busy": "2023-09-05T08:57:52.455271Z",
          "iopub.execute_input": "2023-09-05T08:57:52.456134Z",
          "iopub.status.idle": "2023-09-05T08:57:52.489305Z",
          "shell.execute_reply.started": "2023-09-05T08:57:52.456098Z",
          "shell.execute_reply": "2023-09-05T08:57:52.488187Z"
        },
        "trusted": true,
        "id": "XeuOym14KH5B"
      },
      "execution_count": null,
      "outputs": []
    },
    {
      "cell_type": "markdown",
      "source": [
        "#### Predict output\n",
        "* The snippet **model.predict([[2800, 0, 1]])** is using a trained model to predict the 'price' for a new data point with an 'area' value of 2800, 'monroe township' value of 0, and 'robinsville' value of 1.\n",
        "* The snippet **model.predict([[3400, 0, 0]])** predicts the price based on a new data point with an *'area' value of 3400*, *'monroe township' value of 0*, and *'robinsville' value of 0* using a trained machine learning model."
      ],
      "metadata": {
        "id": "DV8R0jzBKH5B"
      }
    },
    {
      "cell_type": "code",
      "source": [
        "model.predict([[2800,0,1]])"
      ],
      "metadata": {
        "execution": {
          "iopub.status.busy": "2023-09-05T08:58:57.125013Z",
          "iopub.execute_input": "2023-09-05T08:58:57.125363Z",
          "iopub.status.idle": "2023-09-05T08:58:57.13284Z",
          "shell.execute_reply.started": "2023-09-05T08:58:57.125339Z",
          "shell.execute_reply": "2023-09-05T08:58:57.131814Z"
        },
        "trusted": true,
        "id": "6564gRpjKH5B"
      },
      "execution_count": null,
      "outputs": []
    },
    {
      "cell_type": "code",
      "source": [
        "model.predict([[3400,0,0]])"
      ],
      "metadata": {
        "execution": {
          "iopub.status.busy": "2023-09-05T08:59:29.296901Z",
          "iopub.execute_input": "2023-09-05T08:59:29.297314Z",
          "iopub.status.idle": "2023-09-05T08:59:29.305334Z",
          "shell.execute_reply.started": "2023-09-05T08:59:29.297284Z",
          "shell.execute_reply": "2023-09-05T08:59:29.304225Z"
        },
        "trusted": true,
        "id": "7nLrX_V7KH5B"
      },
      "execution_count": null,
      "outputs": []
    },
    {
      "cell_type": "markdown",
      "source": [
        "#### Check accuracy"
      ],
      "metadata": {
        "id": "G33Fl1KyKH5B"
      }
    },
    {
      "cell_type": "code",
      "source": [
        "#accuracy\n",
        "model.score(x,y)"
      ],
      "metadata": {
        "execution": {
          "iopub.status.busy": "2023-09-05T09:00:05.161106Z",
          "iopub.execute_input": "2023-09-05T09:00:05.161465Z",
          "iopub.status.idle": "2023-09-05T09:00:05.170987Z",
          "shell.execute_reply.started": "2023-09-05T09:00:05.161437Z",
          "shell.execute_reply": "2023-09-05T09:00:05.16992Z"
        },
        "trusted": true,
        "id": "LIFRHJ6oKH5B"
      },
      "execution_count": null,
      "outputs": []
    },
    {
      "cell_type": "markdown",
      "source": [
        "> ## **Label Encoding**\n",
        "#### Read and perform preprocessing on data:"
      ],
      "metadata": {
        "id": "01fppmzWKH5B"
      }
    },
    {
      "cell_type": "code",
      "source": [
        "df = pd.read_csv(\"/kaggle/input/homeprices-one-hot-encoding/homeprices.csv\")\n",
        "df.head(2)"
      ],
      "metadata": {
        "execution": {
          "iopub.status.busy": "2023-09-05T09:08:04.209099Z",
          "iopub.execute_input": "2023-09-05T09:08:04.20949Z",
          "iopub.status.idle": "2023-09-05T09:08:04.234087Z",
          "shell.execute_reply.started": "2023-09-05T09:08:04.209459Z",
          "shell.execute_reply": "2023-09-05T09:08:04.233161Z"
        },
        "trusted": true,
        "id": "0Ltr4qxmKH5B"
      },
      "execution_count": null,
      "outputs": []
    },
    {
      "cell_type": "markdown",
      "source": [
        "#### Create Label Encoder\n",
        "* **le = LabelEncoder()** creates an instance of the LabelEncoder class."
      ],
      "metadata": {
        "id": "l7ReI4H0KH5B"
      }
    },
    {
      "cell_type": "code",
      "source": [
        "from sklearn.preprocessing import LabelEncoder\n",
        "le = LabelEncoder()"
      ],
      "metadata": {
        "execution": {
          "iopub.status.busy": "2023-09-05T09:08:02.206096Z",
          "iopub.execute_input": "2023-09-05T09:08:02.206528Z",
          "iopub.status.idle": "2023-09-05T09:08:02.212812Z",
          "shell.execute_reply.started": "2023-09-05T09:08:02.206495Z",
          "shell.execute_reply": "2023-09-05T09:08:02.211304Z"
        },
        "trusted": true,
        "id": "VUlL0SC9KH5C"
      },
      "execution_count": null,
      "outputs": []
    },
    {
      "cell_type": "markdown",
      "source": [
        "* **df.town = le.fit_transform(df.town)** uses the LabelEncoder to encode the values in the 'town' column of the DataFrame df, replacing the original values with encoded labels."
      ],
      "metadata": {
        "id": "j2A4slejKH5C"
      }
    },
    {
      "cell_type": "code",
      "source": [
        "df.town = le.fit_transform(df.town)\n",
        "df"
      ],
      "metadata": {
        "execution": {
          "iopub.status.busy": "2023-09-05T10:01:01.151936Z",
          "iopub.execute_input": "2023-09-05T10:01:01.15276Z",
          "iopub.status.idle": "2023-09-05T10:01:01.168049Z",
          "shell.execute_reply.started": "2023-09-05T10:01:01.152696Z",
          "shell.execute_reply": "2023-09-05T10:01:01.166796Z"
        },
        "trusted": true,
        "id": "iuPKmHFXKH5C"
      },
      "execution_count": null,
      "outputs": []
    },
    {
      "cell_type": "markdown",
      "source": [
        "#### Define x & y\n",
        "* x = df[['town','area']].values creates a new variable x that contains the values of the 'town' and 'area' columns from the DataFrame df. The .values attribute is used to access the underlying NumPy array representation of the DataFrame columns.\n",
        "\n",
        "When working with machine learning models or certain libraries, it is sometimes necessary to convert the data from a DataFrame format to a NumPy array format. This is because NumPy arrays are more efficient and optimized for numerical computations compared to DataFrames.\n",
        "The reason for using the NumPy array format in this case could be to pass the data as input to a machine learning model that expects a NumPy array rather than a DataFrame. Many machine learning algorithms and libraries, such as scikit-learn, expect input data in the form of NumPy arrays.\n"
      ],
      "metadata": {
        "id": "JrG3YiQRKH5C"
      }
    },
    {
      "cell_type": "code",
      "source": [
        "x = df[['town','area']].values\n",
        "x"
      ],
      "metadata": {
        "execution": {
          "iopub.status.busy": "2023-09-05T09:13:53.043789Z",
          "iopub.execute_input": "2023-09-05T09:13:53.044687Z",
          "iopub.status.idle": "2023-09-05T09:13:53.054513Z",
          "shell.execute_reply.started": "2023-09-05T09:13:53.044647Z",
          "shell.execute_reply": "2023-09-05T09:13:53.053211Z"
        },
        "trusted": true,
        "id": "AIvkeL5IKH5C"
      },
      "execution_count": null,
      "outputs": []
    },
    {
      "cell_type": "code",
      "source": [
        "y= df.price\n",
        "y"
      ],
      "metadata": {
        "execution": {
          "iopub.status.busy": "2023-09-05T09:08:12.019029Z",
          "iopub.execute_input": "2023-09-05T09:08:12.019682Z",
          "iopub.status.idle": "2023-09-05T09:08:12.028305Z",
          "shell.execute_reply.started": "2023-09-05T09:08:12.019646Z",
          "shell.execute_reply": "2023-09-05T09:08:12.026655Z"
        },
        "trusted": true,
        "id": "qf7EKZoNKH5C"
      },
      "execution_count": null,
      "outputs": []
    },
    {
      "cell_type": "markdown",
      "source": [
        "* The **ColumnTransformer** is initialized with a list of transformers, specifying the name of the column to transform, the transformer to apply (in this case, OneHotEncoder()), and the indices of the columns to apply the transformer to. OneHotEncoder() is applied to column 0 ('town').\n",
        "\n",
        "* The **remainder='passthrough'** parameter ensures that the remaining columns in the dataset that are not transformed are passed through without any changes.\n",
        "\n",
        "The commented out part with OneHotEncoder(categorical_features=[0]) is no longer necessary in newer versions of scikit-learn libraries."
      ],
      "metadata": {
        "id": "kLOLYereKH5C"
      }
    },
    {
      "cell_type": "code",
      "source": [
        "from sklearn.preprocessing import OneHotEncoder\n",
        "#ohe = OneHotEncoder(categorical_features=[0])\n",
        "from sklearn.compose import ColumnTransformer\n",
        "ct = ColumnTransformer([(\"town\", OneHotEncoder(), [0])], remainder = 'passthrough')\n"
      ],
      "metadata": {
        "execution": {
          "iopub.status.busy": "2023-09-05T09:13:58.444312Z",
          "iopub.execute_input": "2023-09-05T09:13:58.444703Z",
          "iopub.status.idle": "2023-09-05T09:13:58.451114Z",
          "shell.execute_reply.started": "2023-09-05T09:13:58.444666Z",
          "shell.execute_reply": "2023-09-05T09:13:58.449904Z"
        },
        "trusted": true,
        "id": "EtHjx1hjKH5C"
      },
      "execution_count": null,
      "outputs": []
    },
    {
      "cell_type": "markdown",
      "source": [
        "* **x = ct.fit_transform(x)** is used to transform the input data x using the ColumnTransformer ct. It fits the transformer on the data and applies the specified transformations, including one-hot encoding, to the data. The resulting transformed data is assigned back to the variable x."
      ],
      "metadata": {
        "id": "XqIBpubZKH5C"
      }
    },
    {
      "cell_type": "code",
      "source": [
        "x= ct.fit_transform(x)\n",
        "x"
      ],
      "metadata": {
        "execution": {
          "iopub.status.busy": "2023-09-05T09:14:01.759033Z",
          "iopub.execute_input": "2023-09-05T09:14:01.760183Z",
          "iopub.status.idle": "2023-09-05T09:14:01.77202Z",
          "shell.execute_reply.started": "2023-09-05T09:14:01.760136Z",
          "shell.execute_reply": "2023-09-05T09:14:01.770712Z"
        },
        "trusted": true,
        "id": "ylw7BDlzKH5C"
      },
      "execution_count": null,
      "outputs": []
    },
    {
      "cell_type": "markdown",
      "source": [
        "#### **Dummy Variable Trap**\n",
        "The ***reason for removing one of the dummy variables*** is to prevent the issue of multicollinearity, which occurs when there is a high correlation between predictor variables. Multicollinearity can lead to unstable coefficient estimates and difficulties in interpreting the effects of individual predictors.\n"
      ],
      "metadata": {
        "id": "gmi96ob6KH5C"
      }
    },
    {
      "cell_type": "code",
      "source": [
        "x = x[:,1:]\n",
        "x"
      ],
      "metadata": {
        "execution": {
          "iopub.status.busy": "2023-09-05T09:14:07.12732Z",
          "iopub.execute_input": "2023-09-05T09:14:07.127716Z",
          "iopub.status.idle": "2023-09-05T09:14:07.137708Z",
          "shell.execute_reply.started": "2023-09-05T09:14:07.127676Z",
          "shell.execute_reply": "2023-09-05T09:14:07.136235Z"
        },
        "trusted": true,
        "id": "fHGsG_RCKH5D"
      },
      "execution_count": null,
      "outputs": []
    },
    {
      "cell_type": "markdown",
      "source": [
        "#### Train model"
      ],
      "metadata": {
        "id": "XoTougujKH5D"
      }
    },
    {
      "cell_type": "code",
      "source": [
        "model.fit(x,y)"
      ],
      "metadata": {
        "execution": {
          "iopub.status.busy": "2023-09-05T09:14:18.543965Z",
          "iopub.execute_input": "2023-09-05T09:14:18.544375Z",
          "iopub.status.idle": "2023-09-05T09:14:18.554027Z",
          "shell.execute_reply.started": "2023-09-05T09:14:18.544341Z",
          "shell.execute_reply": "2023-09-05T09:14:18.553191Z"
        },
        "trusted": true,
        "id": "FakNAH84KH5D"
      },
      "execution_count": null,
      "outputs": []
    },
    {
      "cell_type": "markdown",
      "source": [
        "#### Predict Outpupt\n",
        "* Observe how the output have been same using both technique."
      ],
      "metadata": {
        "id": "JjxmOIKaKH5H"
      }
    },
    {
      "cell_type": "code",
      "source": [
        "model.predict([[1,0,2800]])#robins"
      ],
      "metadata": {
        "execution": {
          "iopub.status.busy": "2023-09-05T09:15:16.319923Z",
          "iopub.execute_input": "2023-09-05T09:15:16.320364Z",
          "iopub.status.idle": "2023-09-05T09:15:16.328335Z",
          "shell.execute_reply.started": "2023-09-05T09:15:16.320332Z",
          "shell.execute_reply": "2023-09-05T09:15:16.327226Z"
        },
        "trusted": true,
        "id": "ZgnP3ivDKH5H"
      },
      "execution_count": null,
      "outputs": []
    },
    {
      "cell_type": "code",
      "source": [
        "model.predict([[0,1,3400]])"
      ],
      "metadata": {
        "execution": {
          "iopub.status.busy": "2023-09-05T09:15:37.4553Z",
          "iopub.execute_input": "2023-09-05T09:15:37.455669Z",
          "iopub.status.idle": "2023-09-05T09:15:37.463607Z",
          "shell.execute_reply.started": "2023-09-05T09:15:37.455639Z",
          "shell.execute_reply": "2023-09-05T09:15:37.46252Z"
        },
        "trusted": true,
        "id": "PCIwW-O-KH5H"
      },
      "execution_count": null,
      "outputs": []
    },
    {
      "cell_type": "markdown",
      "source": [
        "#### Check accuracy"
      ],
      "metadata": {
        "id": "h1bOfrrAKH5H"
      }
    },
    {
      "cell_type": "code",
      "source": [
        " model.score(x,y)"
      ],
      "metadata": {
        "execution": {
          "iopub.status.busy": "2023-09-05T09:16:23.890798Z",
          "iopub.execute_input": "2023-09-05T09:16:23.891254Z",
          "iopub.status.idle": "2023-09-05T09:16:23.900968Z",
          "shell.execute_reply.started": "2023-09-05T09:16:23.891218Z",
          "shell.execute_reply": "2023-09-05T09:16:23.899646Z"
        },
        "trusted": true,
        "id": "n-MrPDi-KH5H"
      },
      "execution_count": null,
      "outputs": []
    },
    {
      "cell_type": "markdown",
      "source": [
        "### **NOTE:**  \n",
        "* If both label encoding and one-hot encoding provide the same output and accuracy score for your dataset, it suggests that the features being encoded do not have an ordinal relationship. In such cases, you can choose either encoding technique based on your preferences and the requirements of your machine learning task.\n",
        "\n",
        "### **REFERENCES:**\n",
        "* https://www.youtube.com/watch?v=9yl6-HEY7_s&list=PLeo1K3hjS3uvCeTYTeyfe0-rN5r8zn9rw&index=6\n",
        "\n",
        "### **RELATED ARTICLES:**\n",
        "* Feature Encoding: https://www.geeksforgeeks.org/feature-encoding-techniques-machine-learning/\n",
        "* Dummy variable trap: https://www.statology.org/dummy-variable-trap/\n",
        "* Multicollinearity: https://www.statology.org/multicollinearity-regression/\n",
        "\n",
        "### **Check out my other notebooks:**\n",
        "* Sms Spam Filtering | Naive bayes classifier: https://www.kaggle.com/code/sumaiyammaqsood/sms-spam-check-naive-bayes-classifier\n",
        "* Neural Network | Handwritten Digits Classification: https://www.kaggle.com/code/sumaiyammaqsood/neural-network-handwritten-digits-classification\n",
        "* NLP Text Preprocessing: https://www.kaggle.com/code/sumaiyammaqsood/nlp-text-preprocessing\n",
        "\n",
        "Feedback would be greatly appreciated as I continue to delve into various topics and expand my knowledge in this field. Your insights and suggestions are invaluable in helping me improve and provide more content like this. Thank you for your support and input!"
      ],
      "metadata": {
        "id": "_FA-UyaTKH5H"
      }
    },
    {
      "cell_type": "code",
      "source": [],
      "metadata": {
        "id": "JKzDOhztKH5H"
      },
      "execution_count": null,
      "outputs": []
    }
  ]
}